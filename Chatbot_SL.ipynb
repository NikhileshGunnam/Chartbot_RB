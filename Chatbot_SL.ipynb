{
  "nbformat": 4,
  "nbformat_minor": 0,
  "metadata": {
    "colab": {
      "provenance": [],
      "authorship_tag": "ABX9TyM5sujI7h0ZbBr3BGAecx6r",
      "include_colab_link": true
    },
    "kernelspec": {
      "name": "python3",
      "display_name": "Python 3"
    },
    "language_info": {
      "name": "python"
    }
  },
  "cells": [
    {
      "cell_type": "markdown",
      "metadata": {
        "id": "view-in-github",
        "colab_type": "text"
      },
      "source": [
        "<a href=\"https://colab.research.google.com/github/NikhileshGunnam/Chatbot/blob/main/Chatbot_SL.ipynb\" target=\"_parent\"><img src=\"https://colab.research.google.com/assets/colab-badge.svg\" alt=\"Open In Colab\"/></a>"
      ]
    },
    {
      "cell_type": "code",
      "execution_count": null,
      "metadata": {
        "id": "sPklsuJ02_GJ"
      },
      "outputs": [],
      "source": [
        "pip install nltk"
      ]
    },
    {
      "cell_type": "code",
      "source": [
        "pip install newspaper3k"
      ],
      "metadata": {
        "id": "LoW50VmX3Q-k"
      },
      "execution_count": null,
      "outputs": []
    },
    {
      "cell_type": "code",
      "source": [
        "#importing packages\n",
        "from newspaper import Article\n",
        "import random\n",
        "import string\n",
        "import numpy as np\n",
        "import warnings\n",
        "import nltk\n",
        "from sklearn.feature_extraction.text import TfidfVectorizer\n",
        "from sklearn.metrics.pairwise import cosine_similarity"
      ],
      "metadata": {
        "id": "5PGful2o3Q70"
      },
      "execution_count": 4,
      "outputs": []
    },
    {
      "cell_type": "code",
      "source": [
        "#warnings\n",
        "warnings.filterwarnings('ignore')"
      ],
      "metadata": {
        "id": "KtXhtn7u3Q5t"
      },
      "execution_count": 5,
      "outputs": []
    },
    {
      "cell_type": "code",
      "source": [
        "nltk.download('punkt',quiet=True)\n",
        "nltk.download('wordnet',quiet=True)"
      ],
      "metadata": {
        "id": "nSpekEHm3Q3U"
      },
      "execution_count": null,
      "outputs": []
    },
    {
      "cell_type": "code",
      "source": [
        "article= Article('https://en.wikipedia.org/wiki/Darkness')\n",
        "article.download()\n",
        "article.parse()\n",
        "article.nlp()\n",
        "corpus=article.text\n",
        "print(corpus)"
      ],
      "metadata": {
        "id": "T3srZ-yR3Q0c"
      },
      "execution_count": null,
      "outputs": []
    },
    {
      "cell_type": "code",
      "source": [
        "#tokenization\n",
        "text=corpus\n",
        "sent_tokens=nltk.sent_tokenize(text)\n",
        "print(sent_tokens)"
      ],
      "metadata": {
        "id": "6iweq3Sv3QZ1"
      },
      "execution_count": null,
      "outputs": []
    },
    {
      "cell_type": "code",
      "source": [
        "remove_punct_dict=dict( (ord(punct),None) for punct in string.punctuation)\n",
        "print(string.punctuation)\n",
        "print(remove_punct_dict)"
      ],
      "metadata": {
        "id": "ycfofSBg4rPC"
      },
      "execution_count": null,
      "outputs": []
    },
    {
      "cell_type": "code",
      "source": [
        "def LemNormalize(text):\n",
        "  return nltk.word_tokenize(text.lower().translate(remove_punct_dict))\n",
        "print(LemNormalize(text))"
      ],
      "metadata": {
        "id": "Ows8wO9w4uwS"
      },
      "execution_count": null,
      "outputs": []
    },
    {
      "cell_type": "code",
      "source": [
        "#keywords for greetings\n",
        "greeting_input=[\"hi\",\"hello\",\"hey\",\"hola\"]\n",
        "greeting_response=[\"howdy\",\"hey there\",\"hi\",\"hello :)\"]\n",
        "def greeting(sentence):\n",
        "  for word in sentence.split():\n",
        "    if word.lower() in greeting_input:\n",
        "      return random.choice(greeting_response)"
      ],
      "metadata": {
        "id": "v1NtJy_N4rAj"
      },
      "execution_count": 15,
      "outputs": []
    },
    {
      "cell_type": "code",
      "source": [
        "def response(user_response):\n",
        "  user_response=user_response.lower()\n",
        "  robo_response=''\n",
        "  sent_tokens.append(user_response)\n",
        "  tfidfvec=TfidfVectorizer(tokenizer=LemNormalize , stop_words='english')\n",
        "  tfidf=tfidfvec.fit_transform(sent_tokens)\n",
        "  val=cosine_similarity(tfidf[-1],tfidf)\n",
        "  idx=val.argsort()[0][-2]\n",
        "  flat=val.flatten()\n",
        "  flat.sort()\n",
        "  score=flat[-2]\n",
        "  #print(score)\n",
        "  if score==0:\n",
        "    robo_response=robo_response+\"sorry,i dont understand\"\n",
        "  else:\n",
        "    robo_response=robo_response+sent_tokens[idx]\n",
        "\n",
        "  sent_tokens.remove(user_response)\n",
        "  return robo_response"
      ],
      "metadata": {
        "id": "oNhL1PTq5O46"
      },
      "execution_count": 16,
      "outputs": []
    },
    {
      "cell_type": "code",
      "source": [
        "greeting_input=[\"hi\",\"hello\",\"hey\",\"hola\"]\n",
        "greeting_response=[\"howdy\",\"hey there\",\"hi\",\"hello :)\"]\n",
        "def greeting(sentence):\n",
        "  for word in sentence.split():\n",
        "    if word.lower() in greeting_input:\n",
        "      return random.choice(greeting_response)\n",
        "flag=True\n",
        "print(\"hello!!! this is Nick,i can answer your queris related to Darkness ,type bye to exit\")\n",
        "while(flag==True):\n",
        "  user_response=input(\"cherry:\")\n",
        "  #user_response=user_response.lower()\n",
        "  if(user_response!='bye'):\n",
        "    if(user_response=='thanks' or user_response=='thank you'):\n",
        "      flag=False\n",
        "      print(\"Nick: anytime :)\")\n",
        "    else:\n",
        "       if( greeting(user_response) != None):\n",
        "         print(\"Ncik: \"+ greeting(user_response))\n",
        "       else:\n",
        "         print(\"Nick:\"+response(user_response))\n",
        "  else:\n",
        "    flag=False\n",
        "    print(\"Nick: see you later :)\")"
      ],
      "metadata": {
        "id": "Vi20gd9T5O1z"
      },
      "execution_count": null,
      "outputs": []
    }
  ]
}